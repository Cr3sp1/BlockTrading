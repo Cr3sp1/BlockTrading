{
 "cells": [
  {
   "cell_type": "markdown",
   "metadata": {},
   "source": [
    "## Analisi Dati\n",
    "\n",
    "To Do:\n",
    "- Andamento prezzi e pool\n",
    "- Andamento portafogli\n",
    "- Attivita' sulle pool\n",
    "- Fee pagate\n",
    "- Challenge\n",
    "- Minting"
   ]
  },
  {
   "cell_type": "code",
   "execution_count": 3,
   "metadata": {},
   "outputs": [],
   "source": [
    "import pandas as pd\n",
    "import matplotlib as plt\n",
    "import seaborn as sns"
   ]
  },
  {
   "cell_type": "code",
   "execution_count": 2,
   "metadata": {},
   "outputs": [
    {
     "name": "stdout",
     "output_type": "stream",
     "text": [
      "{'0x3194cBDC3dbcd3E11a07892e7bA5c3394048Cc87': 'PC', '0xe7CB1c67752cBb975a56815Af242ce2Ce63d3113': 'LDR', '0x1596Ff8ED308a83897a731F3C1e814B19E11D68c': 'QTC', '0x7CA3dB74F7b6cd8D6Db1D34dEc2eA3c89a3417ec': 'BOR', '0x66aB6D9362d4F35596279692F0251Db635165871': 'PC Owner', '0x33A4622B82D4c04a53e170c638B944ce27cffce3': 'LDR Owner', '0x0063046686E46Dc6F15918b61AE2B121458534a5': 'QTC Owner', '0x21b42413bA931038f35e7A5224FaDb065d297Ba3': 'BOR Owner', '0xF4Ed726c3F10068914Db7B485e4b30E63D7EBaF1': 'Bot 1', '0x0759bc565CFEd39Ef4098FfFA230f35D10B811c7': 'Bot 2', '0xf4B590898bcf0f5113068CD9Dd07aaee0f3B11D8': 'Bot 3', '0x0362C982AB697e34B10f0afc85Deb8572aAbB274': 'Bot 4', '0xC73B2c54Df638a8C81f9c7Cb3e6074a08bfAe602': 'Bot 5', '0x09bd18b813b1bc6c066Da553D0c93E55a079Dc3a': 'Bot 6', '0x242F16Ed8f8E347013304672e3928a22624b33Dc': 'Bot 7', '0xCc1ab890b74693115a725F74A0738869a784A1Cc': 'Bot 8', '0x2D0377757C1fD6097B16Bcd5B83C2B7e05F8B84B': 'Bot 9', '0xBaa3bb6E00F9BB3d4FEc8aF8aaf35dfAFeC9fEce': 'Bot 10', '0x5Adb6008DEB5AE5103d4913Cf7aa041cB32dae8c': 'Bot 11', '0x76Bb2D200b2292e27330593BBdeb5033729E1cDF': 'Bot 12', '0xD41C49B06e5FD3249bB8E8E6725b89246AD25d3f': 'Bot 13', '0x03ED71c8EAE7aE81469d4C78799b435F142dba5B': 'Bot 14', '0x41f80C04512D90d9EF63472aAAd9B3AABA2F3A88': 'Bot 15', '0xde62AAb395765b45FbC14fcF3952176CD6816f27': 'Bot 16', '0x08A6018E022A33b4B794b0b30839bcE739696EbC': 'Bot 17', '0x689AF93DC9D4e6Da145Eff6398ae792fe4BaD8dD': 'Bot 18', '0x1Cc32A47cE9764b914C43f86895A2B3028c7f3C4': 'Bot 19', '0xceB278006D338BEe3132C9Eb0f5D37A2637FD78D': 'Bot 20', '0xb6B81d97314Cda2A06A381E6A5a25E305Fb42Fb3': 'Bot 21', '0xe78cbEA4967C63199dA698Ac318bAcC56785b5da': 'Bot 22', '0x989033E708AEeAb3658D448dcB7Cc330401a5c55': 'Bot 23', '0x5Ed1C7671B13cF1873FD94f22192f1880A3f57D8': 'Bot 24', '0x911951798c45F8F6c74DF1422B3ac4025831d98E': 'Bot 25', '0xD17220fC6813DE0E91e5ECAcCbf1b858e07d56FD': 'Bot 26', '0x9D4414D600E16975b501019B9131dBB033259cF5': 'Bot 27', '0x3d8C86a810d3E84a3194d278B921F4cDbe085Bc1': 'Bot 28', '0x5334142a596e53120233703F7c7AaB5AedB8e968': 'Bot 29', '0x5Cf9395d26f33beB3b0C707e9B90d146723803e7': 'Bot 30', '0x25a509da5DfBe06397dbfe5F82e97fbFB75C237B': 'Bot 31', '0x344B5C1213e561FB450Ca58E32D8b2b06a8eB548': 'Bot 32', '0x3dc9E0a61a98821bd8bB2C5363aD8169B49CEb34': 'Bot 33', '0xceEfC04844a1B7b45fE86E5928390fDd0c0b180D': 'Bot 34', '0x8354832142f5089dc4eDdacCcbb61740EC762275': 'Bot 35', '0x89c568F573C282f83F802F0685F878CD727d80bc': 'Bot 36', '0x9a1A3B806EF6C53291204a382Db4BD678A67C420': 'Bot 37', '0x1aaBD40A051821D8feFE050202a4D512275874c8': 'Bot 38', '0x4eeA6E28F723E30FcF88acf448FB63813E08549B': 'Bot 39', '0xb91fa2874F394ed50c0e150D77c9c186B9f15422': 'Bot 40', '0xA00b7e747aB00b27e2c9EB1b970e140bd2Cb68D4': 'Bot 41', '0x65a2d884472237288684cB04dbEE7f2C340a18A0': 'Bot 42', '0x93093D85f65ac30866E2Bf1F8F983B14D78e092C': 'Bot 43', '0xe8A741dF8A82b63FBE0A89334b685deD11555EE2': 'Bot 44', '0x7B1e64e6E1116E802AF13c35D44644E22A410699': 'Bot 45', '0x71Fa541499771988c2B52F7a787F9C82Fc404522': 'Bot 46', '0x41b19083452265c7B7d2324D615CDE5968B99379': 'Bot 47', '0xB07e53c6E90f7E5B272a7BCC8136899a6E1dAd31': 'Bot 48', '0x0e55F689599e89b5F24F764DeB3408Fa1A2D816E': 'Bot 49', '0x1a20d10c5Af3Ec2D59522D1d868D4124a0B64153': 'Bot 50', '0x4e244a11a2f30b3bF411276387f14EA37b38B135': 'Bot 51', '0x1866bC5C04ab09aD08118AD134558d5d53163dDE': 'Bot 52', '0xcEaAea1f3e4b0f779dC05Ae13dd1110138F8c34d': 'Bot 53', '0x61BFBE91587C7315A01f4524b06Bf64Af64047F6': 'Bot 54', '0xC5DaFE845c35289D84EfbdC0484274300e8EdFE1': 'Bot 55', '0x87Fe3884cCD5b27D8377770A296634110F87859a': 'Bot 56', '0xC89af34415eb512A276670d78f9679Fb8214202B': 'Bot 57', '0xd32d78003cae40cca6E156cF49b3508A37404F73': 'Bot 58', '0xfA3dAD1FecF5C286DEB431c4B45BBED1116C25af': 'Bot 59', '0x7Be7807E16233c7875E405C8eD7EdA4d595b477a': 'Bot 60', '0xe14b5aAE97178dd73f087F009DcBfd52b5F7961A': 'Bot 61', '0x1cFe3dB0B28282B573dc4C5E2575452d5B936E0C': 'Bot 62', '0x49F07764389B0641C820C6bcB470E42cC89e92BA': 'Bot 63', '0x6276b885379Fc54d16C0773f0e4F8b91D415A360': 'Bot 64', '0x30fa36558A45Cb775a767BC1EA3F656899e20326': 'Bot 65', '0xb32C4CaB1E2e79FF6d1948d094bdE48c7a08B38c': 'Bot 66', '0xBC23FCdbeCe908FC424Eb442b5d1AFb0D5993324': 'Bot 67', '0xa5861Cd5435d4a7CcF06935fBe44ff180EDcD59b': 'Bot 68', '0xd6409E82D95eCC6cB3Bc65698824d1db8eDea9b6': 'Bot 69', '0xD82F5177a5F6886Ec9505bD9398Ae7a2ECF7aeD8': 'Bot 70', '0xB86340BD1c5F7dB534B703E5A44A974548892B38': 'Bot 71', '0x73c5d17b87A15b72FaE99Bd4Dba063e959792E7D': 'Bot 72', '0xc4a97b4b2b5f442C9f67a1BB5C330e8e9D4276c3': 'Bot 73', '0x2BEe4Fc82b4843A40E5a41329dd865e31CDE8492': 'Bot 74', '0x94334a4B65Bfb62c54B4c4b854Ee86f0fdDC6737': 'Bot 75', '0x5431F4e3F34374f0177C56B1418B659257b1524a': 'Bot 76', '0x193938a2bd57D7269A0323fe629a3bC6D955abe4': 'Bot 77', '0xA5783B6d849Af89134a9e22C0E617c3b150a05d3': 'Bot 78', '0xA5136B07b05905EEE6679f935B8E6A118ffAC926': 'Bot 79', '0x582D13CedB408dA56e27b37E05711d1ade3B1047': 'Bot 80', '0x0193f140a705604132a85Bc1734dD32D025fACe3': 'Bot 81', '0x271dc1e9F66330E1a1dbc1F0F465184F56B71268': 'Bot 82', '0xD8D5003BD51EF5307F2268B27e18dCEBeff77998': 'Bot 83', '0x260013180219B4B69212d0377E1e309749DD6ef5': 'Bot 84', '0xE2B4AD165eFdF776A33ce861B02b1feb110a6604': 'Bot 85', '0xB014cA81B58592BB19efc8232f1E3D047D5B1722': 'Bot 86', '0x8544890C7E7f21bF8b3FA7ec433b80df5CC04F4a': 'Bot 87', '0xD942a16F67fb9b0534FFa1D1FEc439Ae07510877': 'Bot 88', '0xd18E18B8b2E22cf2127915b7a6452290997A46A3': 'Bot 89', '0xB2e7101Ad42c630204a3C4677fc7A7F54102Bf10': 'Bot 90', '0x3Ad5bF58C6f9FdEca084C033830f3CA9e70E75D4': 'Bot 91', '0x9172507e25bAF34C10cdBCeFC7625F87c1EFf8a4': 'Bot 92', '0xE7dbe3372e690fd1D7870901d2781387d57ee0bC': 'Bot 93', '0x51bA50df645da5729bB513fA3293459E50449092': 'Bot 94', '0xE23c70B8A445C25E37D453208Ee75C4a0110D49e': 'Bot 95', '0x44827fEAE248795B60B243440BCf8FdEfAb68EFD': 'Bot 96', '0xa2A25a1635052F1E11b260b765c75c3A1744af98': 'Bot 97', '0xEdfdB89B9c6E8731f823Ac1873b1d822E9e42C74': 'Bot 98', '0xD1340cA7C4f28c312f1115abbEf2956711c3f25b': 'Bot 99', '0xcFe3a516e7cbAEcCc7526B486B9a4b158B44c646': 'Bot 100'}\n"
     ]
    }
   ],
   "source": [
    "# declare dictionary to convert addresses to names\n",
    "addr_to_name = {}\n",
    "\n",
    "addr_to_name['0x3194cBDC3dbcd3E11a07892e7bA5c3394048Cc87'] = 'PC'\n",
    "addr_to_name['0xe7CB1c67752cBb975a56815Af242ce2Ce63d3113'] = 'LDR'\n",
    "addr_to_name['0x1596Ff8ED308a83897a731F3C1e814B19E11D68c'] = 'QTC'\n",
    "addr_to_name['0x7CA3dB74F7b6cd8D6Db1D34dEc2eA3c89a3417ec'] = 'BOR'\n",
    "addr_to_name['0x66aB6D9362d4F35596279692F0251Db635165871'] = 'PC Owner'\n",
    "addr_to_name['0x33A4622B82D4c04a53e170c638B944ce27cffce3'] = 'LDR Owner'\n",
    "addr_to_name['0x0063046686E46Dc6F15918b61AE2B121458534a5'] = 'QTC Owner'\n",
    "addr_to_name['0x21b42413bA931038f35e7A5224FaDb065d297Ba3'] = 'BOR Owner'\n",
    "\n",
    "with open('Brownie/public_keys.txt', 'r') as file:\n",
    "    keylines = file.readlines()\n",
    "\n",
    "for i, line in enumerate(keylines):\n",
    "    # Strip any leading/trailing whitespace characters from the line\n",
    "    line = line.strip()\n",
    "    value = f\"Bot {i + 1}\"\n",
    "    # Add to the dictionary\n",
    "    addr_to_name[line] = value\n",
    "\n",
    "# Output the dictionary to verify\n",
    "print(addr_to_name)"
   ]
  },
  {
   "cell_type": "code",
   "execution_count": 23,
   "metadata": {},
   "outputs": [
    {
     "name": "stdout",
     "output_type": "stream",
     "text": [
      "     token       from    tokenAmount  paycoinAmount\n",
      "0      QTC     Bot 85     881.512931   10701.902371\n",
      "1      QTC     Bot 51     248.045470    3890.210325\n",
      "2      LDR  QTC Owner      24.674028   46953.479185\n",
      "3      BOR     Bot 14  165989.507897   19902.568309\n",
      "4      BOR  QTC Owner  241438.825232   48853.390828\n",
      "...    ...        ...            ...            ...\n",
      "3740   LDR     Bot 61       0.000186       4.644910\n",
      "3741   QTC     Bot 44       5.954988    1460.692816\n",
      "3742   QTC     Bot 49       0.828865     204.045869\n",
      "3743   QTC     Bot 72       4.685831    1124.255864\n",
      "3744   LDR     Bot 31       0.441950     802.194333\n",
      "\n",
      "[3745 rows x 4 columns]\n",
      "     token       from  tokenAmount  paycoinAmount\n",
      "0      LDR      Bot 1     0.000000       0.000000\n",
      "1      QTC      Bot 2     0.000000       0.000000\n",
      "2      QTC     Bot 10     0.000000       0.000000\n",
      "3      QTC      Bot 9     0.000000       0.000000\n",
      "4      LDR     Bot 86     0.000000       0.000000\n",
      "...    ...        ...          ...            ...\n",
      "3653   LDR     Bot 30     1.359373   14818.853305\n",
      "3654   LDR  BOR Owner    27.400000  188285.592966\n",
      "3655   LDR     Bot 41     0.050853      92.316101\n",
      "3656   LDR  BOR Owner     0.061860     111.971819\n",
      "3657   LDR      Bot 6     0.136811     246.370644\n",
      "\n",
      "[3658 rows x 4 columns]\n",
      "     tokenIn tokenOut    from  tokenAmountIn  tokenAmountOut  paycoinAmount\n",
      "0        BOR      LDR  Bot 56       0.000000        0.000000       0.000000\n",
      "1        BOR      QTC   Bot 8       0.000000        0.000000       0.000000\n",
      "2        QTC      BOR  Bot 43       0.000000        0.000000       0.000000\n",
      "3        LDR      BOR  Bot 19       0.000000        0.000000       0.000000\n",
      "4        BOR      QTC  Bot 38       0.000000        0.000000       0.000000\n",
      "...      ...      ...     ...            ...             ...            ...\n",
      "3748     LDR      QTC  Bot 69       0.008228        0.841017     205.548784\n",
      "3749     LDR      BOR  Bot 53       0.760961     1905.916167    1411.081340\n",
      "3750     QTC      BOR  Bot 81      27.062379     8622.319143    6570.346436\n",
      "3751     BOR      LDR  Bot 67    1453.704179        0.605591    1129.710576\n",
      "3752     LDR      BOR  Bot 94       0.004978       12.188490       9.434219\n",
      "\n",
      "[3753 rows x 6 columns]\n"
     ]
    }
   ],
   "source": [
    "buy_df = pd.read_csv('DATA/Events/events_buy.csv', dtype={'tokenAmount':float, 'paycoinAmount':float})\n",
    "sell_df = pd.read_csv('DATA/Events/events_sell.csv', dtype={'tokenAmount':float, 'paycoinAmount':float})\n",
    "swap_df = pd.read_csv('DATA/Events/events_swap.csv', dtype={'tokenAmountIn':float, 'tokenAmountOut':float, 'paycoinAmount':float})\n",
    "\n",
    "buy_df.insert( loc=1, column='token', value=buy_df['tokenAddress'].map(addr_to_name))\n",
    "buy_df.drop(columns=['tokenAddress'], inplace=True)\n",
    "buy_df['from'] = buy_df['from'].map(addr_to_name)\n",
    "buy_df['tokenAmount'] = buy_df['tokenAmount']/10**18\n",
    "buy_df['paycoinAmount'] = buy_df['paycoinAmount']/10**18\n",
    "print(buy_df)\n",
    "\n",
    "sell_df.insert( loc=1, column='token', value=sell_df['tokenAddress'].map(addr_to_name))\n",
    "sell_df.drop(columns=['tokenAddress'], inplace=True)\n",
    "sell_df['from'] = sell_df['from'].map(addr_to_name)\n",
    "sell_df['tokenAmount'] = sell_df['tokenAmount']/10**18\n",
    "sell_df['paycoinAmount'] = sell_df['paycoinAmount']/10**18\n",
    "print(sell_df)\n",
    "\n",
    "swap_df.insert( loc=1, column='tokenIn', value=swap_df['tokenAddressIn'].map(addr_to_name))\n",
    "swap_df.drop(columns=['tokenAddressIn'], inplace=True)\n",
    "swap_df.insert( loc=2, column='tokenOut', value=swap_df['tokenAddressOut'].map(addr_to_name))\n",
    "swap_df.drop(columns=['tokenAddressOut'], inplace=True)\n",
    "swap_df['from'] = swap_df['from'].map(addr_to_name)\n",
    "swap_df['tokenAmountIn'] = swap_df['tokenAmountIn']/10**18\n",
    "swap_df['tokenAmountOut'] = swap_df['tokenAmountOut']/10**18\n",
    "swap_df['paycoinAmount'] = swap_df['paycoinAmount']/10**18\n",
    "print(swap_df)"
   ]
  },
  {
   "cell_type": "code",
   "execution_count": 28,
   "metadata": {},
   "outputs": [
    {
     "ename": "ValueError",
     "evalue": "If using all scalar values, you must pass an index",
     "output_type": "error",
     "traceback": [
      "\u001b[0;31m---------------------------------------------------------------------------\u001b[0m",
      "\u001b[0;31mValueError\u001b[0m                                Traceback (most recent call last)",
      "Cell \u001b[0;32mIn[28], line 20\u001b[0m\n\u001b[1;32m     17\u001b[0m     \u001b[38;5;28;01mreturn\u001b[39;00m { \u001b[38;5;124m'\u001b[39m\u001b[38;5;124muser\u001b[39m\u001b[38;5;124m'\u001b[39m: user, \u001b[38;5;124m'\u001b[39m\u001b[38;5;124mLDR\u001b[39m\u001b[38;5;124m'\u001b[39m: fees[\u001b[38;5;124m'\u001b[39m\u001b[38;5;124mLDR\u001b[39m\u001b[38;5;124m'\u001b[39m]\u001b[38;5;241m*\u001b[39m\u001b[38;5;241m0.003\u001b[39m, \u001b[38;5;124m'\u001b[39m\u001b[38;5;124mQTC\u001b[39m\u001b[38;5;124m'\u001b[39m: fees[\u001b[38;5;124m'\u001b[39m\u001b[38;5;124mQTC\u001b[39m\u001b[38;5;124m'\u001b[39m]\u001b[38;5;241m*\u001b[39m\u001b[38;5;241m0.003\u001b[39m, \u001b[38;5;124m'\u001b[39m\u001b[38;5;124mBOR\u001b[39m\u001b[38;5;124m'\u001b[39m: fees[\u001b[38;5;124m'\u001b[39m\u001b[38;5;124mBOR\u001b[39m\u001b[38;5;124m'\u001b[39m]\u001b[38;5;241m*\u001b[39m\u001b[38;5;241m0.003\u001b[39m, \u001b[38;5;124m'\u001b[39m\u001b[38;5;124mTOT\u001b[39m\u001b[38;5;124m'\u001b[39m: (fees[\u001b[38;5;124m'\u001b[39m\u001b[38;5;124mLDR\u001b[39m\u001b[38;5;124m'\u001b[39m]\u001b[38;5;241m+\u001b[39mfees[\u001b[38;5;124m'\u001b[39m\u001b[38;5;124mLDR\u001b[39m\u001b[38;5;124m'\u001b[39m]\u001b[38;5;241m+\u001b[39mfees[\u001b[38;5;124m'\u001b[39m\u001b[38;5;124mLDR\u001b[39m\u001b[38;5;124m'\u001b[39m])\u001b[38;5;241m*\u001b[39m\u001b[38;5;241m0.003\u001b[39m }\n\u001b[1;32m     19\u001b[0m fees_df \u001b[38;5;241m=\u001b[39m {}\n\u001b[0;32m---> 20\u001b[0m fees_df \u001b[38;5;241m=\u001b[39m \u001b[43mpd\u001b[49m\u001b[38;5;241;43m.\u001b[39;49m\u001b[43mDataFrame\u001b[49m\u001b[43m(\u001b[49m\u001b[43mcalc_fees\u001b[49m\u001b[43m(\u001b[49m\u001b[43m \u001b[49m\u001b[38;5;124;43m'\u001b[39;49m\u001b[38;5;124;43mLDR Owner\u001b[39;49m\u001b[38;5;124;43m'\u001b[39;49m\u001b[43m,\u001b[49m\u001b[43m \u001b[49m\u001b[43mbuy_df\u001b[49m\u001b[43m,\u001b[49m\u001b[43m \u001b[49m\u001b[43msell_df\u001b[49m\u001b[43m,\u001b[49m\u001b[43m \u001b[49m\u001b[43mswap_df\u001b[49m\u001b[43m \u001b[49m\u001b[43m)\u001b[49m\u001b[43m)\u001b[49m\n\u001b[1;32m     21\u001b[0m fees_df\u001b[38;5;241m.\u001b[39mappend(calc_fees( \u001b[38;5;124m'\u001b[39m\u001b[38;5;124mQTC Owner\u001b[39m\u001b[38;5;124m'\u001b[39m, buy_df, sell_df, swap_df ))\n\u001b[1;32m     22\u001b[0m fees_df\u001b[38;5;241m.\u001b[39mappend(calc_fees( \u001b[38;5;124m'\u001b[39m\u001b[38;5;124mBOR Owner\u001b[39m\u001b[38;5;124m'\u001b[39m, buy_df, sell_df, swap_df ))\n",
      "File \u001b[0;32m~/anaconda3/envs/DeepLearning/lib/python3.11/site-packages/pandas/core/frame.py:767\u001b[0m, in \u001b[0;36mDataFrame.__init__\u001b[0;34m(self, data, index, columns, dtype, copy)\u001b[0m\n\u001b[1;32m    761\u001b[0m     mgr \u001b[38;5;241m=\u001b[39m \u001b[38;5;28mself\u001b[39m\u001b[38;5;241m.\u001b[39m_init_mgr(\n\u001b[1;32m    762\u001b[0m         data, axes\u001b[38;5;241m=\u001b[39m{\u001b[38;5;124m\"\u001b[39m\u001b[38;5;124mindex\u001b[39m\u001b[38;5;124m\"\u001b[39m: index, \u001b[38;5;124m\"\u001b[39m\u001b[38;5;124mcolumns\u001b[39m\u001b[38;5;124m\"\u001b[39m: columns}, dtype\u001b[38;5;241m=\u001b[39mdtype, copy\u001b[38;5;241m=\u001b[39mcopy\n\u001b[1;32m    763\u001b[0m     )\n\u001b[1;32m    765\u001b[0m \u001b[38;5;28;01melif\u001b[39;00m \u001b[38;5;28misinstance\u001b[39m(data, \u001b[38;5;28mdict\u001b[39m):\n\u001b[1;32m    766\u001b[0m     \u001b[38;5;66;03m# GH#38939 de facto copy defaults to False only in non-dict cases\u001b[39;00m\n\u001b[0;32m--> 767\u001b[0m     mgr \u001b[38;5;241m=\u001b[39m \u001b[43mdict_to_mgr\u001b[49m\u001b[43m(\u001b[49m\u001b[43mdata\u001b[49m\u001b[43m,\u001b[49m\u001b[43m \u001b[49m\u001b[43mindex\u001b[49m\u001b[43m,\u001b[49m\u001b[43m \u001b[49m\u001b[43mcolumns\u001b[49m\u001b[43m,\u001b[49m\u001b[43m \u001b[49m\u001b[43mdtype\u001b[49m\u001b[38;5;241;43m=\u001b[39;49m\u001b[43mdtype\u001b[49m\u001b[43m,\u001b[49m\u001b[43m \u001b[49m\u001b[43mcopy\u001b[49m\u001b[38;5;241;43m=\u001b[39;49m\u001b[43mcopy\u001b[49m\u001b[43m,\u001b[49m\u001b[43m \u001b[49m\u001b[43mtyp\u001b[49m\u001b[38;5;241;43m=\u001b[39;49m\u001b[43mmanager\u001b[49m\u001b[43m)\u001b[49m\n\u001b[1;32m    768\u001b[0m \u001b[38;5;28;01melif\u001b[39;00m \u001b[38;5;28misinstance\u001b[39m(data, ma\u001b[38;5;241m.\u001b[39mMaskedArray):\n\u001b[1;32m    769\u001b[0m     \u001b[38;5;28;01mfrom\u001b[39;00m \u001b[38;5;21;01mnumpy\u001b[39;00m\u001b[38;5;21;01m.\u001b[39;00m\u001b[38;5;21;01mma\u001b[39;00m \u001b[38;5;28;01mimport\u001b[39;00m mrecords\n",
      "File \u001b[0;32m~/anaconda3/envs/DeepLearning/lib/python3.11/site-packages/pandas/core/internals/construction.py:503\u001b[0m, in \u001b[0;36mdict_to_mgr\u001b[0;34m(data, index, columns, dtype, typ, copy)\u001b[0m\n\u001b[1;32m    499\u001b[0m     \u001b[38;5;28;01melse\u001b[39;00m:\n\u001b[1;32m    500\u001b[0m         \u001b[38;5;66;03m# dtype check to exclude e.g. range objects, scalars\u001b[39;00m\n\u001b[1;32m    501\u001b[0m         arrays \u001b[38;5;241m=\u001b[39m [x\u001b[38;5;241m.\u001b[39mcopy() \u001b[38;5;28;01mif\u001b[39;00m \u001b[38;5;28mhasattr\u001b[39m(x, \u001b[38;5;124m\"\u001b[39m\u001b[38;5;124mdtype\u001b[39m\u001b[38;5;124m\"\u001b[39m) \u001b[38;5;28;01melse\u001b[39;00m x \u001b[38;5;28;01mfor\u001b[39;00m x \u001b[38;5;129;01min\u001b[39;00m arrays]\n\u001b[0;32m--> 503\u001b[0m \u001b[38;5;28;01mreturn\u001b[39;00m \u001b[43marrays_to_mgr\u001b[49m\u001b[43m(\u001b[49m\u001b[43marrays\u001b[49m\u001b[43m,\u001b[49m\u001b[43m \u001b[49m\u001b[43mcolumns\u001b[49m\u001b[43m,\u001b[49m\u001b[43m \u001b[49m\u001b[43mindex\u001b[49m\u001b[43m,\u001b[49m\u001b[43m \u001b[49m\u001b[43mdtype\u001b[49m\u001b[38;5;241;43m=\u001b[39;49m\u001b[43mdtype\u001b[49m\u001b[43m,\u001b[49m\u001b[43m \u001b[49m\u001b[43mtyp\u001b[49m\u001b[38;5;241;43m=\u001b[39;49m\u001b[43mtyp\u001b[49m\u001b[43m,\u001b[49m\u001b[43m \u001b[49m\u001b[43mconsolidate\u001b[49m\u001b[38;5;241;43m=\u001b[39;49m\u001b[43mcopy\u001b[49m\u001b[43m)\u001b[49m\n",
      "File \u001b[0;32m~/anaconda3/envs/DeepLearning/lib/python3.11/site-packages/pandas/core/internals/construction.py:114\u001b[0m, in \u001b[0;36marrays_to_mgr\u001b[0;34m(arrays, columns, index, dtype, verify_integrity, typ, consolidate)\u001b[0m\n\u001b[1;32m    111\u001b[0m \u001b[38;5;28;01mif\u001b[39;00m verify_integrity:\n\u001b[1;32m    112\u001b[0m     \u001b[38;5;66;03m# figure out the index, if necessary\u001b[39;00m\n\u001b[1;32m    113\u001b[0m     \u001b[38;5;28;01mif\u001b[39;00m index \u001b[38;5;129;01mis\u001b[39;00m \u001b[38;5;28;01mNone\u001b[39;00m:\n\u001b[0;32m--> 114\u001b[0m         index \u001b[38;5;241m=\u001b[39m \u001b[43m_extract_index\u001b[49m\u001b[43m(\u001b[49m\u001b[43marrays\u001b[49m\u001b[43m)\u001b[49m\n\u001b[1;32m    115\u001b[0m     \u001b[38;5;28;01melse\u001b[39;00m:\n\u001b[1;32m    116\u001b[0m         index \u001b[38;5;241m=\u001b[39m ensure_index(index)\n",
      "File \u001b[0;32m~/anaconda3/envs/DeepLearning/lib/python3.11/site-packages/pandas/core/internals/construction.py:667\u001b[0m, in \u001b[0;36m_extract_index\u001b[0;34m(data)\u001b[0m\n\u001b[1;32m    664\u001b[0m         \u001b[38;5;28;01mraise\u001b[39;00m \u001b[38;5;167;01mValueError\u001b[39;00m(\u001b[38;5;124m\"\u001b[39m\u001b[38;5;124mPer-column arrays must each be 1-dimensional\u001b[39m\u001b[38;5;124m\"\u001b[39m)\n\u001b[1;32m    666\u001b[0m \u001b[38;5;28;01mif\u001b[39;00m \u001b[38;5;129;01mnot\u001b[39;00m indexes \u001b[38;5;129;01mand\u001b[39;00m \u001b[38;5;129;01mnot\u001b[39;00m raw_lengths:\n\u001b[0;32m--> 667\u001b[0m     \u001b[38;5;28;01mraise\u001b[39;00m \u001b[38;5;167;01mValueError\u001b[39;00m(\u001b[38;5;124m\"\u001b[39m\u001b[38;5;124mIf using all scalar values, you must pass an index\u001b[39m\u001b[38;5;124m\"\u001b[39m)\n\u001b[1;32m    669\u001b[0m \u001b[38;5;28;01mif\u001b[39;00m have_series:\n\u001b[1;32m    670\u001b[0m     index \u001b[38;5;241m=\u001b[39m union_indexes(indexes)\n",
      "\u001b[0;31mValueError\u001b[0m: If using all scalar values, you must pass an index"
     ]
    }
   ],
   "source": [
    "def calc_fees( user, buy_df, sell_df, swap_df ):\n",
    "    fees = {'LDR':0, 'QTC':0, 'BOR':0}\n",
    "\n",
    "    buy_df = buy_df[buy_df['from'] == user]\n",
    "    for _, row in buy_df.iterrows():\n",
    "        fees[row['token']] += row['paycoinAmount']\n",
    "    \n",
    "    sell_df = sell_df[sell_df['from'] == user]\n",
    "    for _, row in sell_df.iterrows():\n",
    "        fees[row['token']] += row['paycoinAmount']\n",
    "\n",
    "    swap_df = swap_df[swap_df['from'] == user]\n",
    "    for _, row in swap_df.iterrows():\n",
    "        fees[row['tokenIn']] += row['paycoinAmount']\n",
    "        fees[row['tokenOut']] += row['paycoinAmount']\n",
    "    \n",
    "    return { 'user': user, 'LDR': fees['LDR']*0.003, 'QTC': fees['QTC']*0.003, 'BOR': fees['BOR']*0.003, 'TOT': (fees['LDR']+fees['LDR']+fees['LDR'])*0.003 }\n",
    "\n",
    "fees_df = {}\n",
    "fees_df = pd.DataFrame(calc_fees( 'LDR Owner', buy_df, sell_df, swap_df ))\n",
    "fees_df.append(calc_fees( 'QTC Owner', buy_df, sell_df, swap_df ))\n",
    "fees_df.append(calc_fees( 'BOR Owner', buy_df, sell_df, swap_df ))\n",
    "print(fees_df)\n"
   ]
  },
  {
   "cell_type": "code",
   "execution_count": 32,
   "metadata": {},
   "outputs": [
    {
     "name": "stdout",
     "output_type": "stream",
     "text": [
      "          user          LDR          QTC          BOR           TOT\n",
      "0    LDR Owner  3639.099619  5243.727608  3346.621754  10917.298858\n",
      "1    QTC Owner  8125.325450  3731.184081  4540.570114  24375.976350\n",
      "2    BOR Owner  8937.691543  2807.757067   668.811065  26813.074629\n",
      "3        Bot 1   898.297900   851.260913  1051.691810   2694.893701\n",
      "4        Bot 2   720.818605   927.985639  1133.911727   2162.455815\n",
      "..         ...          ...          ...          ...           ...\n",
      "98      Bot 96   949.098371   973.828318   511.313468   2847.295113\n",
      "99      Bot 97   455.710019   421.882136   382.149412   1367.130057\n",
      "100     Bot 98   761.221532  1164.065251  1070.448079   2283.664597\n",
      "101     Bot 99  2430.165869  2480.614649  1859.291069   7290.497608\n",
      "102    Bot 100  2033.396736  2470.540177  2585.958451   6100.190209\n",
      "\n",
      "[103 rows x 5 columns]\n"
     ]
    }
   ],
   "source": [
    "def calc_fees(users, buy_df, sell_df, swap_df):\n",
    "    result = []\n",
    "    \n",
    "    for user in users:\n",
    "        fees = {'LDR': 0, 'QTC': 0, 'BOR': 0}\n",
    "\n",
    "        buy_user_df = buy_df[buy_df['from'] == user]\n",
    "        for _, row in buy_user_df.iterrows():\n",
    "            fees[row['token']] += row['paycoinAmount']\n",
    "\n",
    "        sell_user_df = sell_df[sell_df['from'] == user]\n",
    "        for _, row in sell_user_df.iterrows():\n",
    "            fees[row['token']] += row['paycoinAmount']\n",
    "\n",
    "        swap_user_df = swap_df[swap_df['from'] == user]\n",
    "        for _, row in swap_user_df.iterrows():\n",
    "            fees[row['tokenIn']] += row['paycoinAmount']\n",
    "            fees[row['tokenOut']] += row['paycoinAmount']\n",
    "\n",
    "        # Calculate total fees\n",
    "        total_fees = {\n",
    "            'user': user,\n",
    "            'LDR': fees['LDR'] * 0.003,\n",
    "            'QTC': fees['QTC'] * 0.003,\n",
    "            'BOR': fees['BOR'] * 0.003,\n",
    "            'TOT': (fees['LDR'] + fees['LDR'] + fees['LDR']) * 0.003\n",
    "        }\n",
    "        \n",
    "        result.append(total_fees)\n",
    "    \n",
    "    return result\n",
    "\n",
    "\n",
    "# Owners\n",
    "owners = ['LDR Owner', 'QTC Owner', 'BOR Owner']\n",
    "\n",
    "# Bots from Bot 1 to Bot 100\n",
    "bots = [f'Bot {i}' for i in range(1, 101)]\n",
    "\n",
    "# Combine owners and bots into a single list\n",
    "users = owners + bots\n",
    "\n",
    "fees_df = pd.DataFrame(calc_fees(users, buy_df, sell_df, swap_df))\n",
    "print(fees_df)\n",
    "fees_df.to_csv('DATA/fees_data.csv', index=False)"
   ]
  },
  {
   "cell_type": "code",
   "execution_count": null,
   "metadata": {},
   "outputs": [],
   "source": []
  },
  {
   "cell_type": "code",
   "execution_count": null,
   "metadata": {},
   "outputs": [],
   "source": []
  }
 ],
 "metadata": {
  "kernelspec": {
   "display_name": "DeepLearning",
   "language": "python",
   "name": "python3"
  },
  "language_info": {
   "codemirror_mode": {
    "name": "ipython",
    "version": 3
   },
   "file_extension": ".py",
   "mimetype": "text/x-python",
   "name": "python",
   "nbconvert_exporter": "python",
   "pygments_lexer": "ipython3",
   "version": "3.11.5"
  }
 },
 "nbformat": 4,
 "nbformat_minor": 2
}
